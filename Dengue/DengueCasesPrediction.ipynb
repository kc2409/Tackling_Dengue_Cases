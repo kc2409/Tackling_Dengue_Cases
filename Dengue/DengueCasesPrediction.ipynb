{
 "cells": [
  {
   "cell_type": "markdown",
   "metadata": {},
   "source": [
    "# IEEE MEGA PROJECT"
   ]
  },
  {
   "cell_type": "markdown",
   "metadata": {},
   "source": [
    "**Team Name: BetaTech**                           \n",
    "**Team Leader: Mollika Garg**                           \n",
    "**Email Id: mollika.garg@gmail.com**\n",
    "\n",
    "**Team Member: Shreya Sharma**                \n",
    "**Email Id: shreyasharma.1510001@gmail.com**\n",
    "\n",
    "**Team Member: Koushiki Chakrabarti**                     \n",
    "**Email Id: koushikichakrabarti@gmail.com**"
   ]
  },
  {
   "cell_type": "markdown",
   "metadata": {},
   "source": [
    "### PROJECT DETAILS"
   ]
  },
  {
   "cell_type": "markdown",
   "metadata": {},
   "source": [
    "**Domain: Machine Learning**                                              \n",
    "**Project Name: Tackling Dengue Cases**   "
   ]
  },
  {
   "cell_type": "markdown",
   "metadata": {},
   "source": [
    "### PROJECT DESCRIPTION\n",
    "Predict dengue cases from climate and determine potential dengue hotspots by detecting stagnant water areas from satellite data. Make ML algorithms predict the number of dengue cases based on climate factors and use thresholding techniques to predict stagnant water hotspots by using satellite data."
   ]
  },
  {
   "cell_type": "code",
   "execution_count": 1,
   "metadata": {},
   "outputs": [],
   "source": [
    "##IMPORTS\n",
    "\n",
    "# used for manipulating directory paths\n",
    "import os\n",
    "\n",
    "# used to analyze data\n",
    "import pandas as pd\n",
    "\n",
    "# scientific and vector computation for python\n",
    "import numpy as np\n",
    "\n",
    "# for image visualisation\n",
    "from matplotlib import pyplot as plt\n",
    "\n",
    "# encode target labels \n",
    "from sklearn.preprocessing import LabelEncoder\n",
    "\n",
    "# performs the task of Standardization\n",
    "from sklearn.preprocessing import StandardScaler\n",
    "\n",
    "# to find the error\n",
    "from sklearn.metrics import mean_absolute_error\n",
    "\n",
    "# used for training SVM\n",
    "from sklearn.svm import SVR\n",
    "\n",
    "# used for training KNN\n",
    "from sklearn.neighbors import KNeighborsRegressor\n",
    "\n",
    "# used for training Random Forest\n",
    "from sklearn.ensemble import RandomForestRegressor"
   ]
  },
  {
   "cell_type": "markdown",
   "metadata": {},
   "source": [
    "### READING DATA"
   ]
  },
  {
   "cell_type": "code",
   "execution_count": 2,
   "metadata": {},
   "outputs": [],
   "source": [
    "## Read Data\n",
    "\n",
    "dengue_features = pd.read_excel(\"C:\\\\Users\\\\molli\\\\OneDrive\\\\Documents\\\\Dengue_Data.xlsx\")\n",
    "dengue_labels= dengue_features[\"No. of cases\"]\n",
    "dengue_features=dengue_features.drop(labels=\"No. of cases\",axis=1)"
   ]
  },
  {
   "cell_type": "code",
   "execution_count": 3,
   "metadata": {},
   "outputs": [
    {
     "data": {
      "text/html": [
       "<div>\n",
       "<style scoped>\n",
       "    .dataframe tbody tr th:only-of-type {\n",
       "        vertical-align: middle;\n",
       "    }\n",
       "\n",
       "    .dataframe tbody tr th {\n",
       "        vertical-align: top;\n",
       "    }\n",
       "\n",
       "    .dataframe thead th {\n",
       "        text-align: right;\n",
       "    }\n",
       "</style>\n",
       "<table border=\"1\" class=\"dataframe\">\n",
       "  <thead>\n",
       "    <tr style=\"text-align: right;\">\n",
       "      <th></th>\n",
       "      <th>City</th>\n",
       "      <th>Year</th>\n",
       "      <th>Month</th>\n",
       "      <th>Precipitation Amt.(mm)</th>\n",
       "      <th>Humidity(%)</th>\n",
       "      <th>Avg Temp.(F)</th>\n",
       "      <th>Previous Cases</th>\n",
       "    </tr>\n",
       "  </thead>\n",
       "  <tbody>\n",
       "    <tr>\n",
       "      <th>0</th>\n",
       "      <td>New Delhi</td>\n",
       "      <td>2016</td>\n",
       "      <td>Feb</td>\n",
       "      <td>1.4</td>\n",
       "      <td>68</td>\n",
       "      <td>66.2</td>\n",
       "      <td>0</td>\n",
       "    </tr>\n",
       "    <tr>\n",
       "      <th>1</th>\n",
       "      <td>New Delhi</td>\n",
       "      <td>2016</td>\n",
       "      <td>Mar</td>\n",
       "      <td>17.8</td>\n",
       "      <td>61</td>\n",
       "      <td>77.0</td>\n",
       "      <td>0</td>\n",
       "    </tr>\n",
       "    <tr>\n",
       "      <th>2</th>\n",
       "      <td>New Delhi</td>\n",
       "      <td>2016</td>\n",
       "      <td>Apr</td>\n",
       "      <td>0.6</td>\n",
       "      <td>37</td>\n",
       "      <td>89.6</td>\n",
       "      <td>2</td>\n",
       "    </tr>\n",
       "    <tr>\n",
       "      <th>3</th>\n",
       "      <td>New Delhi</td>\n",
       "      <td>2016</td>\n",
       "      <td>May</td>\n",
       "      <td>30.8</td>\n",
       "      <td>47</td>\n",
       "      <td>93.2</td>\n",
       "      <td>5</td>\n",
       "    </tr>\n",
       "    <tr>\n",
       "      <th>4</th>\n",
       "      <td>New Delhi</td>\n",
       "      <td>2016</td>\n",
       "      <td>Jun</td>\n",
       "      <td>17.4</td>\n",
       "      <td>59</td>\n",
       "      <td>93.2</td>\n",
       "      <td>6</td>\n",
       "    </tr>\n",
       "  </tbody>\n",
       "</table>\n",
       "</div>"
      ],
      "text/plain": [
       "        City  Year Month   Precipitation Amt.(mm)  Humidity(%)  Avg Temp.(F)  \\\n",
       "0  New Delhi  2016    Feb                     1.4           68          66.2   \n",
       "1  New Delhi  2016    Mar                    17.8           61          77.0   \n",
       "2  New Delhi  2016    Apr                     0.6           37          89.6   \n",
       "3  New Delhi  2016    May                    30.8           47          93.2   \n",
       "4  New Delhi  2016    Jun                    17.4           59          93.2   \n",
       "\n",
       "   Previous Cases   \n",
       "0                0  \n",
       "1                0  \n",
       "2                2  \n",
       "3                5  \n",
       "4                6  "
      ]
     },
     "execution_count": 3,
     "metadata": {},
     "output_type": "execute_result"
    }
   ],
   "source": [
    "## Displaying head of the data\n",
    "\n",
    "dengue_features.head()"
   ]
  },
  {
   "cell_type": "code",
   "execution_count": 4,
   "metadata": {},
   "outputs": [],
   "source": [
    "## Change avg temperage from farehneit to celcius\n",
    "\n",
    "dengue_features[\"Avg Temp.(F)\"]=(dengue_features[\"Avg Temp.(F)\"]- 32)* 5/9\n",
    "dengue_features[\"Avg Temp.(C)\"]=dengue_features[\"Avg Temp.(F)\"]\n",
    "dengue_features=dengue_features.drop(labels=\"Avg Temp.(F)\", axis=1)"
   ]
  },
  {
   "cell_type": "code",
   "execution_count": 5,
   "metadata": {},
   "outputs": [],
   "source": [
    "## Encoding labels\n",
    "\n",
    "lmap={\"Jan\":0,\"Feb\":1,\"Mar\":2,\"Apr\":3,\"May\":4,\"Jun\":5, \"Jul\":6, \"Aug\":7, \"Sep\":8, \"Oct\":9, \"Nov\":10, \"Dec\":11}\n",
    "dengue_features[\"Month \"]=dengue_features[\"Month \"].map(lmap)"
   ]
  },
  {
   "cell_type": "code",
   "execution_count": 6,
   "metadata": {},
   "outputs": [],
   "source": [
    "## Droping the feature 'City'\n",
    "\n",
    "dengue_features=dengue_features.drop(\"City\", axis=1)"
   ]
  },
  {
   "cell_type": "code",
   "execution_count": 7,
   "metadata": {},
   "outputs": [
    {
     "data": {
      "text/html": [
       "<div>\n",
       "<style scoped>\n",
       "    .dataframe tbody tr th:only-of-type {\n",
       "        vertical-align: middle;\n",
       "    }\n",
       "\n",
       "    .dataframe tbody tr th {\n",
       "        vertical-align: top;\n",
       "    }\n",
       "\n",
       "    .dataframe thead th {\n",
       "        text-align: right;\n",
       "    }\n",
       "</style>\n",
       "<table border=\"1\" class=\"dataframe\">\n",
       "  <thead>\n",
       "    <tr style=\"text-align: right;\">\n",
       "      <th></th>\n",
       "      <th>Year</th>\n",
       "      <th>Month</th>\n",
       "      <th>Precipitation Amt.(mm)</th>\n",
       "      <th>Humidity(%)</th>\n",
       "      <th>Previous Cases</th>\n",
       "      <th>Avg Temp.(C)</th>\n",
       "    </tr>\n",
       "  </thead>\n",
       "  <tbody>\n",
       "    <tr>\n",
       "      <th>0</th>\n",
       "      <td>2016</td>\n",
       "      <td>1</td>\n",
       "      <td>1.4</td>\n",
       "      <td>68</td>\n",
       "      <td>0</td>\n",
       "      <td>19.0</td>\n",
       "    </tr>\n",
       "    <tr>\n",
       "      <th>1</th>\n",
       "      <td>2016</td>\n",
       "      <td>2</td>\n",
       "      <td>17.8</td>\n",
       "      <td>61</td>\n",
       "      <td>0</td>\n",
       "      <td>25.0</td>\n",
       "    </tr>\n",
       "    <tr>\n",
       "      <th>2</th>\n",
       "      <td>2016</td>\n",
       "      <td>3</td>\n",
       "      <td>0.6</td>\n",
       "      <td>37</td>\n",
       "      <td>2</td>\n",
       "      <td>32.0</td>\n",
       "    </tr>\n",
       "    <tr>\n",
       "      <th>3</th>\n",
       "      <td>2016</td>\n",
       "      <td>4</td>\n",
       "      <td>30.8</td>\n",
       "      <td>47</td>\n",
       "      <td>5</td>\n",
       "      <td>34.0</td>\n",
       "    </tr>\n",
       "    <tr>\n",
       "      <th>4</th>\n",
       "      <td>2016</td>\n",
       "      <td>5</td>\n",
       "      <td>17.4</td>\n",
       "      <td>59</td>\n",
       "      <td>6</td>\n",
       "      <td>34.0</td>\n",
       "    </tr>\n",
       "  </tbody>\n",
       "</table>\n",
       "</div>"
      ],
      "text/plain": [
       "   Year  Month   Precipitation Amt.(mm)  Humidity(%)  Previous Cases   \\\n",
       "0  2016       1                     1.4           68                0   \n",
       "1  2016       2                    17.8           61                0   \n",
       "2  2016       3                     0.6           37                2   \n",
       "3  2016       4                    30.8           47                5   \n",
       "4  2016       5                    17.4           59                6   \n",
       "\n",
       "   Avg Temp.(C)  \n",
       "0          19.0  \n",
       "1          25.0  \n",
       "2          32.0  \n",
       "3          34.0  \n",
       "4          34.0  "
      ]
     },
     "execution_count": 7,
     "metadata": {},
     "output_type": "execute_result"
    }
   ],
   "source": [
    "## Displaying head of the data\n",
    "\n",
    "dengue_features.head()"
   ]
  },
  {
   "cell_type": "code",
   "execution_count": 8,
   "metadata": {},
   "outputs": [],
   "source": [
    "## storing feature values in X and labels in Y\n",
    "\n",
    "X=dengue_features.values\n",
    "Y=dengue_labels.values"
   ]
  },
  {
   "cell_type": "code",
   "execution_count": 9,
   "metadata": {},
   "outputs": [],
   "source": [
    "# ## shuffling data\n",
    "\n",
    "# rand_col=np.arange(0,len(Y),dtype=np.int)\n",
    "# np.random.shuffle(rand_col)\n",
    "# Y=Y[rand_col.astype(int)]\n",
    "# X=X[rand_col.astype(int)]"
   ]
  },
  {
   "cell_type": "code",
   "execution_count": 10,
   "metadata": {},
   "outputs": [],
   "source": [
    "## spiltting data into training and testing\n",
    "\n",
    "from sklearn.model_selection import train_test_split\n",
    "x_train, x_test, y_train, y_test = train_test_split(X,Y,test_size = 0.2,random_state = 0) "
   ]
  },
  {
   "cell_type": "code",
   "execution_count": 11,
   "metadata": {},
   "outputs": [
    {
     "name": "stdout",
     "output_type": "stream",
     "text": [
      "[  12  141  338   72    2  190 1362   10  217   18   10   58 1062  374]\n"
     ]
    }
   ],
   "source": [
    "print(y_test)"
   ]
  },
  {
   "cell_type": "code",
   "execution_count": 12,
   "metadata": {},
   "outputs": [],
   "source": [
    "## scaling the data \n",
    "\n",
    "scaler = StandardScaler()\n",
    "x_train = scaler.fit_transform(x_train)\n",
    "x_test = scaler.transform(x_test)"
   ]
  },
  {
   "cell_type": "markdown",
   "metadata": {},
   "source": [
    "### Training The Data and Chosing the Best Hyperparameters"
   ]
  },
  {
   "cell_type": "markdown",
   "metadata": {},
   "source": [
    "#### 1) K Nearest Neighbours"
   ]
  },
  {
   "cell_type": "code",
   "execution_count": 13,
   "metadata": {},
   "outputs": [
    {
     "name": "stdout",
     "output_type": "stream",
     "text": [
      "120.54285714285717\n"
     ]
    }
   ],
   "source": [
    "knn = KNeighborsRegressor(n_neighbors=5)\n",
    "knn.fit(x_train, y_train)\n",
    "y_pred = knn.predict(x_test)\n",
    "print(mean_absolute_error(y_test, y_pred))"
   ]
  },
  {
   "cell_type": "markdown",
   "metadata": {},
   "source": [
    "#### 2) Random Forest"
   ]
  },
  {
   "cell_type": "code",
   "execution_count": 14,
   "metadata": {
    "scrolled": true
   },
   "outputs": [
    {
     "name": "stdout",
     "output_type": "stream",
     "text": [
      "129.47\n"
     ]
    }
   ],
   "source": [
    "rf = RandomForestRegressor(n_estimators=50)\n",
    "rf.fit(x_train, y_train)\n",
    "y_pred1 = rf.predict(x_test)\n",
    "print(mean_absolute_error(y_test, y_pred1))"
   ]
  },
  {
   "cell_type": "markdown",
   "metadata": {},
   "source": [
    "#### 3) Support Vector Machine"
   ]
  },
  {
   "cell_type": "code",
   "execution_count": 15,
   "metadata": {},
   "outputs": [
    {
     "name": "stdout",
     "output_type": "stream",
     "text": [
      "64.64986258167876\n"
     ]
    }
   ],
   "source": [
    "clf = SVR(C=1200, tol=1e-3)\n",
    "clf.fit(x_train, y_train)\n",
    "y_pred2 = clf.predict(x_test)\n",
    "print(mean_absolute_error(y_test, y_pred2))"
   ]
  },
  {
   "cell_type": "markdown",
   "metadata": {},
   "source": [
    "### Comparing Predicted and Test data values Trained on SVM"
   ]
  },
  {
   "cell_type": "code",
   "execution_count": 16,
   "metadata": {
    "scrolled": true
   },
   "outputs": [
    {
     "name": "stdout",
     "output_type": "stream",
     "text": [
      "[  42.41296749  139.68107506  271.78165449  142.67924131    5.94500793\n",
      "  294.48041103 1257.38458983   40.59084101   67.71874453    8.90655512\n",
      "   17.54350292  187.22313303  871.04612987  380.7417203 ]\n",
      "[  12  141  338   72    2  190 1362   10  217   18   10   58 1062  374]\n"
     ]
    }
   ],
   "source": [
    "## printing predicted and test data values\n",
    "\n",
    "print(y_pred2)\n",
    "print(y_test)"
   ]
  },
  {
   "cell_type": "code",
   "execution_count": 17,
   "metadata": {},
   "outputs": [
    {
     "name": "stdout",
     "output_type": "stream",
     "text": [
      "64.64986258167876\n"
     ]
    }
   ],
   "source": [
    "## In case of negative values, converting them to 0 to obtain better accuracy\n",
    "\n",
    "for i in range(0,len(y_pred2)):\n",
    "    if y_pred2[i]<0:\n",
    "        y_pred2[i]=0\n",
    "print(mean_absolute_error(y_test, y_pred2))"
   ]
  },
  {
   "cell_type": "markdown",
   "metadata": {},
   "source": [
    "### Conclusion\n",
    "We tried a differnet types of models. We tried KNN, Random Forest and SVM. In the end we found that, the data trained on SVM give the best testing result with mean absolute error of 66.7"
   ]
  }
 ],
 "metadata": {
  "kernelspec": {
   "display_name": "Python 3",
   "language": "python",
   "name": "python3"
  },
  "language_info": {
   "codemirror_mode": {
    "name": "ipython",
    "version": 3
   },
   "file_extension": ".py",
   "mimetype": "text/x-python",
   "name": "python",
   "nbconvert_exporter": "python",
   "pygments_lexer": "ipython3",
   "version": "3.8.5"
  }
 },
 "nbformat": 4,
 "nbformat_minor": 4
}
