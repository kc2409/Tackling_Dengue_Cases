{
 "cells": [
  {
   "cell_type": "markdown",
   "metadata": {},
   "source": [
    "# IEEE MEGA PROJECT"
   ]
  },
  {
   "cell_type": "markdown",
   "metadata": {},
   "source": [
    "**Team Name: BetaTech**                           \n",
    "**Team Leader: Mollika Garg**                           \n",
    "**Email Id: mollika.garg@gmail.com**\n",
    "\n",
    "**Team Member: Shreya Sharma**                \n",
    "**Email Id: shreyasharma.1510001@gmail.com**\n",
    "\n",
    "**Team Member: Koushiki Chakrabarti**                     \n",
    "**Email Id: koushikichakrabarti@gmail.com**"
   ]
  },
  {
   "cell_type": "markdown",
   "metadata": {},
   "source": [
    "### PROJECT DETAILS"
   ]
  },
  {
   "cell_type": "markdown",
   "metadata": {},
   "source": [
    "**Domain: Machine Learning**                                              \n",
    "**Project Name: Tackling Dengue Cases**   "
   ]
  },
  {
   "cell_type": "markdown",
   "metadata": {},
   "source": [
    "### PROJECT DESCRIPTION\n",
    "Predict dengue cases from climate and determine potential dengue hotspots by detecting stagnant water areas from satellite data. Make ML algorithms predict the number of dengue cases based on climate factors and use thresholding techniques to predict stagnant water hotspots by using satellite data."
   ]
  },
  {
   "cell_type": "code",
   "execution_count": 1,
   "metadata": {},
   "outputs": [],
   "source": [
    "##IMPORTS\n",
    "\n",
    "# used for manipulating directory paths\n",
    "import os\n",
    "\n",
    "# used to analyze data\n",
    "import pandas as pd\n",
    "\n",
    "# scientific and vector computation for python\n",
    "import numpy as np\n",
    "\n",
    "# for image visualisation\n",
    "from matplotlib import pyplot as plt\n",
    "\n",
    "# encode target labels \n",
    "from sklearn.preprocessing import LabelEncoder\n",
    "\n",
    "# performs the task of Standardization\n",
    "from sklearn.preprocessing import StandardScaler\n",
    "\n",
    "# to find the error\n",
    "from sklearn.metrics import mean_absolute_error\n",
    "\n",
    "# used for training SVM\n",
    "from sklearn.svm import SVR\n",
    "\n",
    "# used for training KNN\n",
    "from sklearn.neighbors import KNeighborsRegressor\n",
    "\n",
    "# used for training Random Forest\n",
    "from sklearn.ensemble import RandomForestRegressor"
   ]
  },
  {
   "cell_type": "markdown",
   "metadata": {},
   "source": [
    "### READING DATA"
   ]
  },
  {
   "cell_type": "code",
   "execution_count": 3,
   "metadata": {},
   "outputs": [],
   "source": [
    "## Read Data\n",
    "\n",
    "malaria_features = pd.read_excel(\"C:\\\\Users\\\\molli\\\\OneDrive\\\\Desktop\\\\Data Set\\\\Malaria_Data.xlsx\")\n",
    "malaria_labels= malaria_features[\"No. of cases\"]\n",
    "malaria_features=malaria_features.drop(labels=\"No. of cases\",axis=1)"
   ]
  },
  {
   "cell_type": "code",
   "execution_count": 4,
   "metadata": {},
   "outputs": [
    {
     "data": {
      "text/html": [
       "<div>\n",
       "<style scoped>\n",
       "    .dataframe tbody tr th:only-of-type {\n",
       "        vertical-align: middle;\n",
       "    }\n",
       "\n",
       "    .dataframe tbody tr th {\n",
       "        vertical-align: top;\n",
       "    }\n",
       "\n",
       "    .dataframe thead th {\n",
       "        text-align: right;\n",
       "    }\n",
       "</style>\n",
       "<table border=\"1\" class=\"dataframe\">\n",
       "  <thead>\n",
       "    <tr style=\"text-align: right;\">\n",
       "      <th></th>\n",
       "      <th>City</th>\n",
       "      <th>Year</th>\n",
       "      <th>Month</th>\n",
       "      <th>Precipitation Amt.(mm)</th>\n",
       "      <th>Humidity(%)</th>\n",
       "      <th>Avg Temp.(C)</th>\n",
       "      <th>Previous Cases</th>\n",
       "    </tr>\n",
       "  </thead>\n",
       "  <tbody>\n",
       "    <tr>\n",
       "      <th>0</th>\n",
       "      <td>New Delhi</td>\n",
       "      <td>2011</td>\n",
       "      <td>Feb</td>\n",
       "      <td>49.9</td>\n",
       "      <td>74</td>\n",
       "      <td>17.0</td>\n",
       "      <td>0</td>\n",
       "    </tr>\n",
       "    <tr>\n",
       "      <th>1</th>\n",
       "      <td>New Delhi</td>\n",
       "      <td>2011</td>\n",
       "      <td>Mar</td>\n",
       "      <td>2.3</td>\n",
       "      <td>62</td>\n",
       "      <td>23.0</td>\n",
       "      <td>1</td>\n",
       "    </tr>\n",
       "    <tr>\n",
       "      <th>2</th>\n",
       "      <td>New Delhi</td>\n",
       "      <td>2011</td>\n",
       "      <td>Apr</td>\n",
       "      <td>2.2</td>\n",
       "      <td>45</td>\n",
       "      <td>28.0</td>\n",
       "      <td>1</td>\n",
       "    </tr>\n",
       "    <tr>\n",
       "      <th>3</th>\n",
       "      <td>New Delhi</td>\n",
       "      <td>2011</td>\n",
       "      <td>May</td>\n",
       "      <td>33.4</td>\n",
       "      <td>45</td>\n",
       "      <td>33.0</td>\n",
       "      <td>5</td>\n",
       "    </tr>\n",
       "    <tr>\n",
       "      <th>4</th>\n",
       "      <td>New Delhi</td>\n",
       "      <td>2011</td>\n",
       "      <td>Jun</td>\n",
       "      <td>104.2</td>\n",
       "      <td>63</td>\n",
       "      <td>32.0</td>\n",
       "      <td>7</td>\n",
       "    </tr>\n",
       "  </tbody>\n",
       "</table>\n",
       "</div>"
      ],
      "text/plain": [
       "        City  Year Month   Precipitation Amt.(mm)  Humidity(%)  Avg Temp.(C)  \\\n",
       "0  New Delhi  2011    Feb                    49.9           74          17.0   \n",
       "1  New Delhi  2011    Mar                     2.3           62          23.0   \n",
       "2  New Delhi  2011    Apr                     2.2           45          28.0   \n",
       "3  New Delhi  2011    May                    33.4           45          33.0   \n",
       "4  New Delhi  2011    Jun                   104.2           63          32.0   \n",
       "\n",
       "   Previous Cases   \n",
       "0                0  \n",
       "1                1  \n",
       "2                1  \n",
       "3                5  \n",
       "4                7  "
      ]
     },
     "execution_count": 4,
     "metadata": {},
     "output_type": "execute_result"
    }
   ],
   "source": [
    "## Displaying head of the data\n",
    "\n",
    "malaria_features.head()"
   ]
  },
  {
   "cell_type": "code",
   "execution_count": 5,
   "metadata": {},
   "outputs": [],
   "source": [
    "## Encoding labels\n",
    "\n",
    "lmap={\"Jan\":0,\"Feb\":1,\"Mar\":2,\"Apr\":3,\"May\":4,\"Jun\":5, \"Jul\":6, \"Aug\":7, \"Sep\":8, \"Oct\":9, \"Nov\":10, \"Dec\":11}\n",
    "malaria_features[\"Month \"]=malaria_features[\"Month \"].map(lmap)"
   ]
  },
  {
   "cell_type": "code",
   "execution_count": 6,
   "metadata": {},
   "outputs": [],
   "source": [
    "## Droping the feature 'City'\n",
    "\n",
    "malaria_features=malaria_features.drop(\"City\", axis=1)"
   ]
  },
  {
   "cell_type": "code",
   "execution_count": 7,
   "metadata": {},
   "outputs": [
    {
     "data": {
      "text/html": [
       "<div>\n",
       "<style scoped>\n",
       "    .dataframe tbody tr th:only-of-type {\n",
       "        vertical-align: middle;\n",
       "    }\n",
       "\n",
       "    .dataframe tbody tr th {\n",
       "        vertical-align: top;\n",
       "    }\n",
       "\n",
       "    .dataframe thead th {\n",
       "        text-align: right;\n",
       "    }\n",
       "</style>\n",
       "<table border=\"1\" class=\"dataframe\">\n",
       "  <thead>\n",
       "    <tr style=\"text-align: right;\">\n",
       "      <th></th>\n",
       "      <th>Year</th>\n",
       "      <th>Month</th>\n",
       "      <th>Precipitation Amt.(mm)</th>\n",
       "      <th>Humidity(%)</th>\n",
       "      <th>Avg Temp.(C)</th>\n",
       "      <th>Previous Cases</th>\n",
       "    </tr>\n",
       "  </thead>\n",
       "  <tbody>\n",
       "    <tr>\n",
       "      <th>0</th>\n",
       "      <td>2011</td>\n",
       "      <td>1</td>\n",
       "      <td>49.9</td>\n",
       "      <td>74</td>\n",
       "      <td>17.0</td>\n",
       "      <td>0</td>\n",
       "    </tr>\n",
       "    <tr>\n",
       "      <th>1</th>\n",
       "      <td>2011</td>\n",
       "      <td>2</td>\n",
       "      <td>2.3</td>\n",
       "      <td>62</td>\n",
       "      <td>23.0</td>\n",
       "      <td>1</td>\n",
       "    </tr>\n",
       "    <tr>\n",
       "      <th>2</th>\n",
       "      <td>2011</td>\n",
       "      <td>3</td>\n",
       "      <td>2.2</td>\n",
       "      <td>45</td>\n",
       "      <td>28.0</td>\n",
       "      <td>1</td>\n",
       "    </tr>\n",
       "    <tr>\n",
       "      <th>3</th>\n",
       "      <td>2011</td>\n",
       "      <td>4</td>\n",
       "      <td>33.4</td>\n",
       "      <td>45</td>\n",
       "      <td>33.0</td>\n",
       "      <td>5</td>\n",
       "    </tr>\n",
       "    <tr>\n",
       "      <th>4</th>\n",
       "      <td>2011</td>\n",
       "      <td>5</td>\n",
       "      <td>104.2</td>\n",
       "      <td>63</td>\n",
       "      <td>32.0</td>\n",
       "      <td>7</td>\n",
       "    </tr>\n",
       "  </tbody>\n",
       "</table>\n",
       "</div>"
      ],
      "text/plain": [
       "   Year  Month   Precipitation Amt.(mm)  Humidity(%)  Avg Temp.(C)  \\\n",
       "0  2011       1                    49.9           74          17.0   \n",
       "1  2011       2                     2.3           62          23.0   \n",
       "2  2011       3                     2.2           45          28.0   \n",
       "3  2011       4                    33.4           45          33.0   \n",
       "4  2011       5                   104.2           63          32.0   \n",
       "\n",
       "   Previous Cases   \n",
       "0                0  \n",
       "1                1  \n",
       "2                1  \n",
       "3                5  \n",
       "4                7  "
      ]
     },
     "execution_count": 7,
     "metadata": {},
     "output_type": "execute_result"
    }
   ],
   "source": [
    "## Displaying head of the data\n",
    "\n",
    "malaria_features.head()"
   ]
  },
  {
   "cell_type": "code",
   "execution_count": 8,
   "metadata": {},
   "outputs": [],
   "source": [
    "## storing feature values in X and labels in Y\n",
    "\n",
    "X=malaria_features.values\n",
    "Y=malaria_labels.values"
   ]
  },
  {
   "cell_type": "code",
   "execution_count": 9,
   "metadata": {},
   "outputs": [],
   "source": [
    "## spiltting data into training and testing\n",
    "\n",
    "from sklearn.model_selection import train_test_split\n",
    "x_train, x_test, y_train, y_test = train_test_split(X,Y,test_size = 0.2,random_state = 0) "
   ]
  },
  {
   "cell_type": "code",
   "execution_count": 10,
   "metadata": {},
   "outputs": [
    {
     "name": "stdout",
     "output_type": "stream",
     "text": [
      "[  4   0   6 214  78   1   3   3   0  28   8   5   3   1  47   3  68   1\n",
      "   7   1  37   1   5  25]\n"
     ]
    }
   ],
   "source": [
    "print(y_test)"
   ]
  },
  {
   "cell_type": "code",
   "execution_count": 11,
   "metadata": {},
   "outputs": [],
   "source": [
    "## scaling the data \n",
    "\n",
    "scaler = StandardScaler()\n",
    "x_train = scaler.fit_transform(x_train)\n",
    "x_test = scaler.transform(x_test)"
   ]
  },
  {
   "cell_type": "markdown",
   "metadata": {},
   "source": [
    "### Training The Data and Chosing the Best Hyperparameters"
   ]
  },
  {
   "cell_type": "markdown",
   "metadata": {},
   "source": [
    "#### 1) K Nearest Neighbours"
   ]
  },
  {
   "cell_type": "code",
   "execution_count": 17,
   "metadata": {},
   "outputs": [
    {
     "name": "stdout",
     "output_type": "stream",
     "text": [
      "16.770833333333332\n"
     ]
    }
   ],
   "source": [
    "knn = KNeighborsRegressor(n_neighbors=4)\n",
    "knn.fit(x_train, y_train)\n",
    "y_pred = knn.predict(x_test)\n",
    "print(mean_absolute_error(y_test, y_pred))"
   ]
  },
  {
   "cell_type": "markdown",
   "metadata": {},
   "source": [
    "#### 2) Random Forest"
   ]
  },
  {
   "cell_type": "code",
   "execution_count": 22,
   "metadata": {},
   "outputs": [
    {
     "name": "stdout",
     "output_type": "stream",
     "text": [
      "17.485208333333333\n"
     ]
    }
   ],
   "source": [
    "rf = RandomForestRegressor(n_estimators=200)\n",
    "rf.fit(x_train, y_train)\n",
    "y_pred1 = rf.predict(x_test)\n",
    "print(mean_absolute_error(y_test, y_pred1))"
   ]
  },
  {
   "cell_type": "markdown",
   "metadata": {},
   "source": [
    "#### 3) Support Vector Machine"
   ]
  },
  {
   "cell_type": "code",
   "execution_count": 29,
   "metadata": {},
   "outputs": [
    {
     "name": "stdout",
     "output_type": "stream",
     "text": [
      "17.642641738148946\n"
     ]
    }
   ],
   "source": [
    "clf = SVR(C=3000, tol=1e-3)\n",
    "clf.fit(x_train, y_train)\n",
    "y_pred2 = clf.predict(x_test)\n",
    "print(mean_absolute_error(y_test, y_pred2))"
   ]
  },
  {
   "cell_type": "markdown",
   "metadata": {},
   "source": [
    "### Comparing Predicted and Test data values Trained on SVM"
   ]
  },
  {
   "cell_type": "code",
   "execution_count": 30,
   "metadata": {},
   "outputs": [
    {
     "name": "stdout",
     "output_type": "stream",
     "text": [
      "[  5.5    0.75   0.75  57.25  47.25   8.25   8.     7.25   3.25  10.\n",
      "  50.25   8.    12.75   0.75  51.25  12.75 120.5   12.75   2.     4.25\n",
      "  13.75   0.75   3.5   22.  ]\n",
      "[  4   0   6 214  78   1   3   3   0  28   8   5   3   1  47   3  68   1\n",
      "   7   1  37   1   5  25]\n"
     ]
    }
   ],
   "source": [
    "## printing predicted and test data values\n",
    "\n",
    "print(y_pred)\n",
    "print(y_test)"
   ]
  },
  {
   "cell_type": "code",
   "execution_count": 31,
   "metadata": {},
   "outputs": [
    {
     "name": "stdout",
     "output_type": "stream",
     "text": [
      "16.770833333333332\n"
     ]
    }
   ],
   "source": [
    "## In case of negative values, converting them to 0 to obtain better accuracy\n",
    "\n",
    "for i in range(0,len(y_pred)):\n",
    "    if y_pred[i]<0:\n",
    "        y_pred[i]=0\n",
    "print(mean_absolute_error(y_test, y_pred))"
   ]
  },
  {
   "cell_type": "markdown",
   "metadata": {},
   "source": [
    "### Conclusion\n",
    "We tried a differnet types of models. We tried KNN, Random Forest and SVM. In the end we found that, the data trained on KNN give the best testing result with mean absolute error of 16.7"
   ]
  }
 ],
 "metadata": {
  "kernelspec": {
   "display_name": "Python 3",
   "language": "python",
   "name": "python3"
  },
  "language_info": {
   "codemirror_mode": {
    "name": "ipython",
    "version": 3
   },
   "file_extension": ".py",
   "mimetype": "text/x-python",
   "name": "python",
   "nbconvert_exporter": "python",
   "pygments_lexer": "ipython3",
   "version": "3.8.5"
  }
 },
 "nbformat": 4,
 "nbformat_minor": 4
}
